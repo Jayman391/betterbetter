{
 "cells": [
  {
   "cell_type": "code",
   "execution_count": 1,
   "metadata": {},
   "outputs": [
    {
     "name": "stdout",
     "output_type": "stream",
     "text": [
      "Running pipeline for file: ../data/nba/2024/celtics/team_stats.json\n",
      "Loading data from ../data/nba/2024/celtics/team_stats.json\n",
      "Processing team data\n",
      "Processed team data with 229 rows\n",
      "Processing player data\n",
      "Processing data for player: Al Horford\n",
      "Processing data for player: Anton Watson\n",
      "Processing data for player: Baylor Scheierman\n",
      "Processing data for player: D. Skapintsev\n",
      "Processing data for player: Derrick White\n",
      "Processing data for player: Drew Peterson\n",
      "Processing data for player: JD Davison\n",
      "Processing data for player: Jaden Springer\n",
      "Processing data for player: Jaylen Brown\n",
      "Processing data for player: Jayson Tatum\n",
      "Processing data for player: Jordan Walsh\n",
      "Processing data for player: Jrue Holiday\n",
      "Processing data for player: Lonnie Walker IV\n",
      "Processing data for player: Luke Kornet\n",
      "Processing data for player: Neemias Queta\n",
      "Processing data for player: Payton Pritchard\n",
      "Processing data for player: Ron Harper Jr.\n",
      "Processing data for player: Sam Hauser\n",
      "Processing data for player: Xavier Tillman\n",
      "Processed data for 19 players\n",
      "Processing player: Al Horford\n",
      "Creating lags for points with lag=5\n",
      "Created lags for points, resulting in 14 rows\n",
      "Creating lags for assists with lag=5\n",
      "Created lags for assists, resulting in 14 rows\n",
      "Creating lags for steals with lag=5\n",
      "Created lags for steals, resulting in 14 rows\n",
      "Creating lags for blocks with lag=5\n",
      "Created lags for blocks, resulting in 14 rows\n",
      "Creating lags for totReb with lag=5\n",
      "Created lags for totReb, resulting in 14 rows\n",
      "Creating lags for turnovers with lag=5\n",
      "Created lags for turnovers, resulting in 14 rows\n",
      "Creating model\n",
      "Model created\n",
      "Fitting model with 1000 samples\n"
     ]
    },
    {
     "name": "stderr",
     "output_type": "stream",
     "text": [
      "Auto-assigning NUTS sampler...\n",
      "Initializing NUTS using jitter+adapt_diag...\n",
      "Multiprocess sampling (4 chains in 4 jobs)\n",
      "NUTS: [intercept, points_current_coeffs, assists_current_coeffs, steals_current_coeffs, blocks_current_coeffs, totReb_current_coeffs, turnovers_current_coeffs]\n"
     ]
    },
    {
     "data": {
      "text/html": [
       "<pre style=\"white-space:pre;overflow-x:auto;line-height:normal;font-family:Menlo,'DejaVu Sans Mono',consolas,'Courier New',monospace\">/Users/user/anaconda3/envs/pymc_env/lib/python3.12/site-packages/rich/live.py:231: UserWarning: install \n",
       "\"ipywidgets\" for Jupyter support\n",
       "  warnings.warn('install \"ipywidgets\" for Jupyter support')\n",
       "</pre>\n"
      ],
      "text/plain": [
       "/Users/user/anaconda3/envs/pymc_env/lib/python3.12/site-packages/rich/live.py:231: UserWarning: install \n",
       "\"ipywidgets\" for Jupyter support\n",
       "  warnings.warn('install \"ipywidgets\" for Jupyter support')\n"
      ]
     },
     "metadata": {},
     "output_type": "display_data"
    },
    {
     "data": {
      "text/html": [
       "<pre style=\"white-space:pre;overflow-x:auto;line-height:normal;font-family:Menlo,'DejaVu Sans Mono',consolas,'Courier New',monospace\"></pre>\n"
      ],
      "text/plain": []
     },
     "metadata": {},
     "output_type": "display_data"
    },
    {
     "data": {
      "text/html": [
       "<pre style=\"white-space:pre;overflow-x:auto;line-height:normal;font-family:Menlo,'DejaVu Sans Mono',consolas,'Courier New',monospace\">\n",
       "</pre>\n"
      ],
      "text/plain": [
       "\n"
      ]
     },
     "metadata": {},
     "output_type": "display_data"
    },
    {
     "name": "stderr",
     "output_type": "stream",
     "text": [
      "Sampling 4 chains for 1_000 tune and 1_000 draw iterations (4_000 + 4_000 draws total) took 125 seconds.\n",
      "Sampling: [assists_current_obs, blocks_current_obs, points_current_obs, steals_current_obs, totReb_current_obs, turnovers_current_obs]\n"
     ]
    },
    {
     "data": {
      "text/html": [
       "<pre style=\"white-space:pre;overflow-x:auto;line-height:normal;font-family:Menlo,'DejaVu Sans Mono',consolas,'Courier New',monospace\">/Users/user/anaconda3/envs/pymc_env/lib/python3.12/site-packages/rich/live.py:231: UserWarning: install \n",
       "\"ipywidgets\" for Jupyter support\n",
       "  warnings.warn('install \"ipywidgets\" for Jupyter support')\n",
       "</pre>\n"
      ],
      "text/plain": [
       "/Users/user/anaconda3/envs/pymc_env/lib/python3.12/site-packages/rich/live.py:231: UserWarning: install \n",
       "\"ipywidgets\" for Jupyter support\n",
       "  warnings.warn('install \"ipywidgets\" for Jupyter support')\n"
      ]
     },
     "metadata": {},
     "output_type": "display_data"
    },
    {
     "name": "stdout",
     "output_type": "stream",
     "text": [
      "Getting posterior predictive with \n"
     ]
    },
    {
     "data": {
      "text/html": [
       "<pre style=\"white-space:pre;overflow-x:auto;line-height:normal;font-family:Menlo,'DejaVu Sans Mono',consolas,'Courier New',monospace\"></pre>\n"
      ],
      "text/plain": []
     },
     "metadata": {},
     "output_type": "display_data"
    },
    {
     "data": {
      "text/html": [
       "<pre style=\"white-space:pre;overflow-x:auto;line-height:normal;font-family:Menlo,'DejaVu Sans Mono',consolas,'Courier New',monospace\">\n",
       "</pre>\n"
      ],
      "text/plain": [
       "\n"
      ]
     },
     "metadata": {},
     "output_type": "display_data"
    },
    {
     "name": "stdout",
     "output_type": "stream",
     "text": [
      "Processing player: Anton Watson\n",
      "Creating lags for points with lag=5\n",
      "Created lags for points, resulting in 3 rows\n",
      "Creating lags for assists with lag=5\n",
      "Created lags for assists, resulting in 3 rows\n",
      "Creating lags for steals with lag=5\n",
      "Created lags for steals, resulting in 3 rows\n",
      "Creating lags for blocks with lag=5\n",
      "Created lags for blocks, resulting in 3 rows\n",
      "Creating lags for totReb with lag=5\n",
      "Created lags for totReb, resulting in 3 rows\n",
      "Creating lags for turnovers with lag=5\n",
      "Created lags for turnovers, resulting in 3 rows\n",
      "Processing player: Baylor Scheierman\n",
      "Creating lags for points with lag=5\n",
      "Created lags for points, resulting in 8 rows\n",
      "Creating lags for assists with lag=5\n",
      "Created lags for assists, resulting in 8 rows\n",
      "Creating lags for steals with lag=5\n",
      "Created lags for steals, resulting in 8 rows\n",
      "Creating lags for blocks with lag=5\n",
      "Created lags for blocks, resulting in 8 rows\n",
      "Creating lags for totReb with lag=5\n",
      "Created lags for totReb, resulting in 8 rows\n",
      "Creating lags for turnovers with lag=5\n",
      "Created lags for turnovers, resulting in 8 rows\n",
      "Creating model\n",
      "Model created\n",
      "Fitting model with 1000 samples\n"
     ]
    },
    {
     "name": "stderr",
     "output_type": "stream",
     "text": [
      "Auto-assigning NUTS sampler...\n",
      "Initializing NUTS using jitter+adapt_diag...\n",
      "Multiprocess sampling (4 chains in 4 jobs)\n",
      "NUTS: [intercept, points_current_coeffs, assists_current_coeffs, steals_current_coeffs, blocks_current_coeffs, totReb_current_coeffs, turnovers_current_coeffs]\n"
     ]
    },
    {
     "data": {
      "text/html": [
       "<pre style=\"white-space:pre;overflow-x:auto;line-height:normal;font-family:Menlo,'DejaVu Sans Mono',consolas,'Courier New',monospace\">/Users/user/anaconda3/envs/pymc_env/lib/python3.12/site-packages/rich/live.py:231: UserWarning: install \n",
       "\"ipywidgets\" for Jupyter support\n",
       "  warnings.warn('install \"ipywidgets\" for Jupyter support')\n",
       "</pre>\n"
      ],
      "text/plain": [
       "/Users/user/anaconda3/envs/pymc_env/lib/python3.12/site-packages/rich/live.py:231: UserWarning: install \n",
       "\"ipywidgets\" for Jupyter support\n",
       "  warnings.warn('install \"ipywidgets\" for Jupyter support')\n"
      ]
     },
     "metadata": {},
     "output_type": "display_data"
    },
    {
     "data": {
      "text/html": [
       "<pre style=\"white-space:pre;overflow-x:auto;line-height:normal;font-family:Menlo,'DejaVu Sans Mono',consolas,'Courier New',monospace\"></pre>\n"
      ],
      "text/plain": []
     },
     "metadata": {},
     "output_type": "display_data"
    },
    {
     "data": {
      "text/html": [
       "<pre style=\"white-space:pre;overflow-x:auto;line-height:normal;font-family:Menlo,'DejaVu Sans Mono',consolas,'Courier New',monospace\">\n",
       "</pre>\n"
      ],
      "text/plain": [
       "\n"
      ]
     },
     "metadata": {},
     "output_type": "display_data"
    },
    {
     "name": "stderr",
     "output_type": "stream",
     "text": [
      "Sampling 4 chains for 1_000 tune and 1_000 draw iterations (4_000 + 4_000 draws total) took 20 seconds.\n",
      "There were 88 divergences after tuning. Increase `target_accept` or reparameterize.\n",
      "Sampling: [assists_current_obs, blocks_current_obs, points_current_obs, steals_current_obs, totReb_current_obs, turnovers_current_obs]\n"
     ]
    },
    {
     "data": {
      "text/html": [
       "<pre style=\"white-space:pre;overflow-x:auto;line-height:normal;font-family:Menlo,'DejaVu Sans Mono',consolas,'Courier New',monospace\">/Users/user/anaconda3/envs/pymc_env/lib/python3.12/site-packages/rich/live.py:231: UserWarning: install \n",
       "\"ipywidgets\" for Jupyter support\n",
       "  warnings.warn('install \"ipywidgets\" for Jupyter support')\n",
       "</pre>\n"
      ],
      "text/plain": [
       "/Users/user/anaconda3/envs/pymc_env/lib/python3.12/site-packages/rich/live.py:231: UserWarning: install \n",
       "\"ipywidgets\" for Jupyter support\n",
       "  warnings.warn('install \"ipywidgets\" for Jupyter support')\n"
      ]
     },
     "metadata": {},
     "output_type": "display_data"
    },
    {
     "name": "stdout",
     "output_type": "stream",
     "text": [
      "Getting posterior predictive with \n"
     ]
    },
    {
     "data": {
      "text/html": [
       "<pre style=\"white-space:pre;overflow-x:auto;line-height:normal;font-family:Menlo,'DejaVu Sans Mono',consolas,'Courier New',monospace\"></pre>\n"
      ],
      "text/plain": []
     },
     "metadata": {},
     "output_type": "display_data"
    },
    {
     "data": {
      "text/html": [
       "<pre style=\"white-space:pre;overflow-x:auto;line-height:normal;font-family:Menlo,'DejaVu Sans Mono',consolas,'Courier New',monospace\">\n",
       "</pre>\n"
      ],
      "text/plain": [
       "\n"
      ]
     },
     "metadata": {},
     "output_type": "display_data"
    },
    {
     "name": "stdout",
     "output_type": "stream",
     "text": [
      "Processing player: D. Skapintsev\n",
      "Creating lags for points with lag=5\n",
      "Created lags for points, resulting in 3 rows\n",
      "Creating lags for assists with lag=5\n",
      "Created lags for assists, resulting in 3 rows\n",
      "Creating lags for steals with lag=5\n",
      "Created lags for steals, resulting in 3 rows\n",
      "Creating lags for blocks with lag=5\n",
      "Created lags for blocks, resulting in 3 rows\n",
      "Creating lags for totReb with lag=5\n",
      "Created lags for totReb, resulting in 3 rows\n",
      "Creating lags for turnovers with lag=5\n",
      "Created lags for turnovers, resulting in 3 rows\n",
      "Processing player: Derrick White\n",
      "Creating lags for points with lag=5\n",
      "Created lags for points, resulting in 19 rows\n",
      "Creating lags for assists with lag=5\n",
      "Created lags for assists, resulting in 19 rows\n",
      "Creating lags for steals with lag=5\n",
      "Created lags for steals, resulting in 19 rows\n",
      "Creating lags for blocks with lag=5\n",
      "Created lags for blocks, resulting in 19 rows\n",
      "Creating lags for totReb with lag=5\n",
      "Created lags for totReb, resulting in 19 rows\n",
      "Creating lags for turnovers with lag=5\n",
      "Created lags for turnovers, resulting in 19 rows\n",
      "Creating model\n",
      "Model created\n",
      "Fitting model with 1000 samples\n"
     ]
    },
    {
     "name": "stderr",
     "output_type": "stream",
     "text": [
      "Auto-assigning NUTS sampler...\n",
      "Initializing NUTS using jitter+adapt_diag...\n",
      "Multiprocess sampling (4 chains in 4 jobs)\n",
      "NUTS: [intercept, points_current_coeffs, assists_current_coeffs, steals_current_coeffs, blocks_current_coeffs, totReb_current_coeffs, turnovers_current_coeffs]\n"
     ]
    },
    {
     "data": {
      "text/html": [
       "<pre style=\"white-space:pre;overflow-x:auto;line-height:normal;font-family:Menlo,'DejaVu Sans Mono',consolas,'Courier New',monospace\">/Users/user/anaconda3/envs/pymc_env/lib/python3.12/site-packages/rich/live.py:231: UserWarning: install \n",
       "\"ipywidgets\" for Jupyter support\n",
       "  warnings.warn('install \"ipywidgets\" for Jupyter support')\n",
       "</pre>\n"
      ],
      "text/plain": [
       "/Users/user/anaconda3/envs/pymc_env/lib/python3.12/site-packages/rich/live.py:231: UserWarning: install \n",
       "\"ipywidgets\" for Jupyter support\n",
       "  warnings.warn('install \"ipywidgets\" for Jupyter support')\n"
      ]
     },
     "metadata": {},
     "output_type": "display_data"
    },
    {
     "data": {
      "text/html": [
       "<pre style=\"white-space:pre;overflow-x:auto;line-height:normal;font-family:Menlo,'DejaVu Sans Mono',consolas,'Courier New',monospace\"></pre>\n"
      ],
      "text/plain": []
     },
     "metadata": {},
     "output_type": "display_data"
    },
    {
     "data": {
      "text/html": [
       "<pre style=\"white-space:pre;overflow-x:auto;line-height:normal;font-family:Menlo,'DejaVu Sans Mono',consolas,'Courier New',monospace\">\n",
       "</pre>\n"
      ],
      "text/plain": [
       "\n"
      ]
     },
     "metadata": {},
     "output_type": "display_data"
    },
    {
     "name": "stderr",
     "output_type": "stream",
     "text": [
      "Sampling 4 chains for 1_000 tune and 1_000 draw iterations (4_000 + 4_000 draws total) took 228 seconds.\n",
      "There were 320 divergences after tuning. Increase `target_accept` or reparameterize.\n",
      "Sampling: [assists_current_obs, blocks_current_obs, points_current_obs, steals_current_obs, totReb_current_obs, turnovers_current_obs]\n"
     ]
    },
    {
     "data": {
      "text/html": [
       "<pre style=\"white-space:pre;overflow-x:auto;line-height:normal;font-family:Menlo,'DejaVu Sans Mono',consolas,'Courier New',monospace\">/Users/user/anaconda3/envs/pymc_env/lib/python3.12/site-packages/rich/live.py:231: UserWarning: install \n",
       "\"ipywidgets\" for Jupyter support\n",
       "  warnings.warn('install \"ipywidgets\" for Jupyter support')\n",
       "</pre>\n"
      ],
      "text/plain": [
       "/Users/user/anaconda3/envs/pymc_env/lib/python3.12/site-packages/rich/live.py:231: UserWarning: install \n",
       "\"ipywidgets\" for Jupyter support\n",
       "  warnings.warn('install \"ipywidgets\" for Jupyter support')\n"
      ]
     },
     "metadata": {},
     "output_type": "display_data"
    },
    {
     "name": "stdout",
     "output_type": "stream",
     "text": [
      "Getting posterior predictive with \n"
     ]
    },
    {
     "data": {
      "text/html": [
       "<pre style=\"white-space:pre;overflow-x:auto;line-height:normal;font-family:Menlo,'DejaVu Sans Mono',consolas,'Courier New',monospace\"></pre>\n"
      ],
      "text/plain": []
     },
     "metadata": {},
     "output_type": "display_data"
    },
    {
     "data": {
      "text/html": [
       "<pre style=\"white-space:pre;overflow-x:auto;line-height:normal;font-family:Menlo,'DejaVu Sans Mono',consolas,'Courier New',monospace\">\n",
       "</pre>\n"
      ],
      "text/plain": [
       "\n"
      ]
     },
     "metadata": {},
     "output_type": "display_data"
    },
    {
     "name": "stdout",
     "output_type": "stream",
     "text": [
      "Processing player: Drew Peterson\n",
      "Creating lags for points with lag=5\n",
      "Created lags for points, resulting in 6 rows\n",
      "Creating lags for assists with lag=5\n",
      "Created lags for assists, resulting in 6 rows\n",
      "Creating lags for steals with lag=5\n",
      "Created lags for steals, resulting in 6 rows\n",
      "Creating lags for blocks with lag=5\n",
      "Created lags for blocks, resulting in 6 rows\n",
      "Creating lags for totReb with lag=5\n",
      "Created lags for totReb, resulting in 6 rows\n",
      "Creating lags for turnovers with lag=5\n",
      "Created lags for turnovers, resulting in 6 rows\n",
      "Creating model\n",
      "Model created\n",
      "Fitting model with 1000 samples\n"
     ]
    },
    {
     "name": "stderr",
     "output_type": "stream",
     "text": [
      "Auto-assigning NUTS sampler...\n",
      "Initializing NUTS using jitter+adapt_diag...\n",
      "Multiprocess sampling (4 chains in 4 jobs)\n",
      "NUTS: [intercept, points_current_coeffs, assists_current_coeffs, steals_current_coeffs, blocks_current_coeffs, totReb_current_coeffs, turnovers_current_coeffs]\n"
     ]
    },
    {
     "data": {
      "text/html": [
       "<pre style=\"white-space:pre;overflow-x:auto;line-height:normal;font-family:Menlo,'DejaVu Sans Mono',consolas,'Courier New',monospace\">/Users/user/anaconda3/envs/pymc_env/lib/python3.12/site-packages/rich/live.py:231: UserWarning: install \n",
       "\"ipywidgets\" for Jupyter support\n",
       "  warnings.warn('install \"ipywidgets\" for Jupyter support')\n",
       "</pre>\n"
      ],
      "text/plain": [
       "/Users/user/anaconda3/envs/pymc_env/lib/python3.12/site-packages/rich/live.py:231: UserWarning: install \n",
       "\"ipywidgets\" for Jupyter support\n",
       "  warnings.warn('install \"ipywidgets\" for Jupyter support')\n"
      ]
     },
     "metadata": {},
     "output_type": "display_data"
    },
    {
     "data": {
      "text/html": [
       "<pre style=\"white-space:pre;overflow-x:auto;line-height:normal;font-family:Menlo,'DejaVu Sans Mono',consolas,'Courier New',monospace\"></pre>\n"
      ],
      "text/plain": []
     },
     "metadata": {},
     "output_type": "display_data"
    },
    {
     "data": {
      "text/html": [
       "<pre style=\"white-space:pre;overflow-x:auto;line-height:normal;font-family:Menlo,'DejaVu Sans Mono',consolas,'Courier New',monospace\">\n",
       "</pre>\n"
      ],
      "text/plain": [
       "\n"
      ]
     },
     "metadata": {},
     "output_type": "display_data"
    },
    {
     "name": "stderr",
     "output_type": "stream",
     "text": [
      "Sampling 4 chains for 1_000 tune and 1_000 draw iterations (4_000 + 4_000 draws total) took 39 seconds.\n",
      "There were 418 divergences after tuning. Increase `target_accept` or reparameterize.\n",
      "The rhat statistic is larger than 1.01 for some parameters. This indicates problems during sampling. See https://arxiv.org/abs/1903.08008 for details\n"
     ]
    },
    {
     "name": "stdout",
     "output_type": "stream",
     "text": [
      "Getting posterior predictive with \n"
     ]
    },
    {
     "name": "stderr",
     "output_type": "stream",
     "text": [
      "Sampling: [assists_current_obs, blocks_current_obs, points_current_obs, steals_current_obs, totReb_current_obs, turnovers_current_obs]\n"
     ]
    },
    {
     "data": {
      "text/html": [
       "<pre style=\"white-space:pre;overflow-x:auto;line-height:normal;font-family:Menlo,'DejaVu Sans Mono',consolas,'Courier New',monospace\">/Users/user/anaconda3/envs/pymc_env/lib/python3.12/site-packages/rich/live.py:231: UserWarning: install \n",
       "\"ipywidgets\" for Jupyter support\n",
       "  warnings.warn('install \"ipywidgets\" for Jupyter support')\n",
       "</pre>\n"
      ],
      "text/plain": [
       "/Users/user/anaconda3/envs/pymc_env/lib/python3.12/site-packages/rich/live.py:231: UserWarning: install \n",
       "\"ipywidgets\" for Jupyter support\n",
       "  warnings.warn('install \"ipywidgets\" for Jupyter support')\n"
      ]
     },
     "metadata": {},
     "output_type": "display_data"
    },
    {
     "data": {
      "text/html": [
       "<pre style=\"white-space:pre;overflow-x:auto;line-height:normal;font-family:Menlo,'DejaVu Sans Mono',consolas,'Courier New',monospace\"></pre>\n"
      ],
      "text/plain": []
     },
     "metadata": {},
     "output_type": "display_data"
    },
    {
     "data": {
      "text/html": [
       "<pre style=\"white-space:pre;overflow-x:auto;line-height:normal;font-family:Menlo,'DejaVu Sans Mono',consolas,'Courier New',monospace\">\n",
       "</pre>\n"
      ],
      "text/plain": [
       "\n"
      ]
     },
     "metadata": {},
     "output_type": "display_data"
    },
    {
     "name": "stdout",
     "output_type": "stream",
     "text": [
      "Processing player: JD Davison\n",
      "Creating lags for points with lag=5\n",
      "Created lags for points, resulting in 8 rows\n",
      "Creating lags for assists with lag=5\n",
      "Created lags for assists, resulting in 8 rows\n",
      "Creating lags for steals with lag=5\n",
      "Created lags for steals, resulting in 8 rows\n",
      "Creating lags for blocks with lag=5\n",
      "Created lags for blocks, resulting in 8 rows\n",
      "Creating lags for totReb with lag=5\n",
      "Created lags for totReb, resulting in 8 rows\n",
      "Creating lags for turnovers with lag=5\n",
      "Created lags for turnovers, resulting in 8 rows\n",
      "Creating model\n",
      "Model created\n",
      "Fitting model with 1000 samples\n"
     ]
    },
    {
     "name": "stderr",
     "output_type": "stream",
     "text": [
      "Auto-assigning NUTS sampler...\n",
      "Initializing NUTS using jitter+adapt_diag...\n",
      "Multiprocess sampling (4 chains in 4 jobs)\n",
      "NUTS: [intercept, points_current_coeffs, assists_current_coeffs, steals_current_coeffs, blocks_current_coeffs, totReb_current_coeffs, turnovers_current_coeffs]\n"
     ]
    },
    {
     "data": {
      "text/html": [
       "<pre style=\"white-space:pre;overflow-x:auto;line-height:normal;font-family:Menlo,'DejaVu Sans Mono',consolas,'Courier New',monospace\">/Users/user/anaconda3/envs/pymc_env/lib/python3.12/site-packages/rich/live.py:231: UserWarning: install \n",
       "\"ipywidgets\" for Jupyter support\n",
       "  warnings.warn('install \"ipywidgets\" for Jupyter support')\n",
       "</pre>\n"
      ],
      "text/plain": [
       "/Users/user/anaconda3/envs/pymc_env/lib/python3.12/site-packages/rich/live.py:231: UserWarning: install \n",
       "\"ipywidgets\" for Jupyter support\n",
       "  warnings.warn('install \"ipywidgets\" for Jupyter support')\n"
      ]
     },
     "metadata": {},
     "output_type": "display_data"
    },
    {
     "data": {
      "text/html": [
       "<pre style=\"white-space:pre;overflow-x:auto;line-height:normal;font-family:Menlo,'DejaVu Sans Mono',consolas,'Courier New',monospace\"></pre>\n"
      ],
      "text/plain": []
     },
     "metadata": {},
     "output_type": "display_data"
    },
    {
     "data": {
      "text/html": [
       "<pre style=\"white-space:pre;overflow-x:auto;line-height:normal;font-family:Menlo,'DejaVu Sans Mono',consolas,'Courier New',monospace\">\n",
       "</pre>\n"
      ],
      "text/plain": [
       "\n"
      ]
     },
     "metadata": {},
     "output_type": "display_data"
    },
    {
     "name": "stderr",
     "output_type": "stream",
     "text": [
      "Sampling 4 chains for 1_000 tune and 1_000 draw iterations (4_000 + 4_000 draws total) took 35 seconds.\n",
      "There were 123 divergences after tuning. Increase `target_accept` or reparameterize.\n",
      "Sampling: [assists_current_obs, blocks_current_obs, points_current_obs, steals_current_obs, totReb_current_obs, turnovers_current_obs]\n"
     ]
    },
    {
     "data": {
      "text/html": [
       "<pre style=\"white-space:pre;overflow-x:auto;line-height:normal;font-family:Menlo,'DejaVu Sans Mono',consolas,'Courier New',monospace\">/Users/user/anaconda3/envs/pymc_env/lib/python3.12/site-packages/rich/live.py:231: UserWarning: install \n",
       "\"ipywidgets\" for Jupyter support\n",
       "  warnings.warn('install \"ipywidgets\" for Jupyter support')\n",
       "</pre>\n"
      ],
      "text/plain": [
       "/Users/user/anaconda3/envs/pymc_env/lib/python3.12/site-packages/rich/live.py:231: UserWarning: install \n",
       "\"ipywidgets\" for Jupyter support\n",
       "  warnings.warn('install \"ipywidgets\" for Jupyter support')\n"
      ]
     },
     "metadata": {},
     "output_type": "display_data"
    },
    {
     "name": "stdout",
     "output_type": "stream",
     "text": [
      "Getting posterior predictive with \n"
     ]
    },
    {
     "data": {
      "text/html": [
       "<pre style=\"white-space:pre;overflow-x:auto;line-height:normal;font-family:Menlo,'DejaVu Sans Mono',consolas,'Courier New',monospace\"></pre>\n"
      ],
      "text/plain": []
     },
     "metadata": {},
     "output_type": "display_data"
    },
    {
     "data": {
      "text/html": [
       "<pre style=\"white-space:pre;overflow-x:auto;line-height:normal;font-family:Menlo,'DejaVu Sans Mono',consolas,'Courier New',monospace\">\n",
       "</pre>\n"
      ],
      "text/plain": [
       "\n"
      ]
     },
     "metadata": {},
     "output_type": "display_data"
    },
    {
     "name": "stdout",
     "output_type": "stream",
     "text": [
      "Processing player: Jaden Springer\n",
      "Creating lags for points with lag=5\n",
      "Created lags for points, resulting in 7 rows\n",
      "Creating lags for assists with lag=5\n",
      "Created lags for assists, resulting in 7 rows\n",
      "Creating lags for steals with lag=5\n",
      "Created lags for steals, resulting in 7 rows\n",
      "Creating lags for blocks with lag=5\n",
      "Created lags for blocks, resulting in 7 rows\n",
      "Creating lags for totReb with lag=5\n",
      "Created lags for totReb, resulting in 7 rows\n",
      "Creating lags for turnovers with lag=5\n",
      "Created lags for turnovers, resulting in 7 rows\n",
      "Creating model\n",
      "Model created\n",
      "Fitting model with 1000 samples\n"
     ]
    },
    {
     "name": "stderr",
     "output_type": "stream",
     "text": [
      "Auto-assigning NUTS sampler...\n",
      "Initializing NUTS using jitter+adapt_diag...\n",
      "Multiprocess sampling (4 chains in 4 jobs)\n",
      "NUTS: [intercept, points_current_coeffs, assists_current_coeffs, steals_current_coeffs, blocks_current_coeffs, totReb_current_coeffs, turnovers_current_coeffs]\n"
     ]
    },
    {
     "data": {
      "text/html": [
       "<pre style=\"white-space:pre;overflow-x:auto;line-height:normal;font-family:Menlo,'DejaVu Sans Mono',consolas,'Courier New',monospace\">/Users/user/anaconda3/envs/pymc_env/lib/python3.12/site-packages/rich/live.py:231: UserWarning: install \n",
       "\"ipywidgets\" for Jupyter support\n",
       "  warnings.warn('install \"ipywidgets\" for Jupyter support')\n",
       "</pre>\n"
      ],
      "text/plain": [
       "/Users/user/anaconda3/envs/pymc_env/lib/python3.12/site-packages/rich/live.py:231: UserWarning: install \n",
       "\"ipywidgets\" for Jupyter support\n",
       "  warnings.warn('install \"ipywidgets\" for Jupyter support')\n"
      ]
     },
     "metadata": {},
     "output_type": "display_data"
    },
    {
     "data": {
      "text/html": [
       "<pre style=\"white-space:pre;overflow-x:auto;line-height:normal;font-family:Menlo,'DejaVu Sans Mono',consolas,'Courier New',monospace\"></pre>\n"
      ],
      "text/plain": []
     },
     "metadata": {},
     "output_type": "display_data"
    },
    {
     "data": {
      "text/html": [
       "<pre style=\"white-space:pre;overflow-x:auto;line-height:normal;font-family:Menlo,'DejaVu Sans Mono',consolas,'Courier New',monospace\">\n",
       "</pre>\n"
      ],
      "text/plain": [
       "\n"
      ]
     },
     "metadata": {},
     "output_type": "display_data"
    },
    {
     "name": "stderr",
     "output_type": "stream",
     "text": [
      "Sampling 4 chains for 1_000 tune and 1_000 draw iterations (4_000 + 4_000 draws total) took 18 seconds.\n",
      "There were 64 divergences after tuning. Increase `target_accept` or reparameterize.\n",
      "Sampling: [assists_current_obs, blocks_current_obs, points_current_obs, steals_current_obs, totReb_current_obs, turnovers_current_obs]\n"
     ]
    },
    {
     "data": {
      "text/html": [
       "<pre style=\"white-space:pre;overflow-x:auto;line-height:normal;font-family:Menlo,'DejaVu Sans Mono',consolas,'Courier New',monospace\">/Users/user/anaconda3/envs/pymc_env/lib/python3.12/site-packages/rich/live.py:231: UserWarning: install \n",
       "\"ipywidgets\" for Jupyter support\n",
       "  warnings.warn('install \"ipywidgets\" for Jupyter support')\n",
       "</pre>\n"
      ],
      "text/plain": [
       "/Users/user/anaconda3/envs/pymc_env/lib/python3.12/site-packages/rich/live.py:231: UserWarning: install \n",
       "\"ipywidgets\" for Jupyter support\n",
       "  warnings.warn('install \"ipywidgets\" for Jupyter support')\n"
      ]
     },
     "metadata": {},
     "output_type": "display_data"
    },
    {
     "name": "stdout",
     "output_type": "stream",
     "text": [
      "Getting posterior predictive with \n"
     ]
    },
    {
     "data": {
      "text/html": [
       "<pre style=\"white-space:pre;overflow-x:auto;line-height:normal;font-family:Menlo,'DejaVu Sans Mono',consolas,'Courier New',monospace\"></pre>\n"
      ],
      "text/plain": []
     },
     "metadata": {},
     "output_type": "display_data"
    },
    {
     "data": {
      "text/html": [
       "<pre style=\"white-space:pre;overflow-x:auto;line-height:normal;font-family:Menlo,'DejaVu Sans Mono',consolas,'Courier New',monospace\">\n",
       "</pre>\n"
      ],
      "text/plain": [
       "\n"
      ]
     },
     "metadata": {},
     "output_type": "display_data"
    },
    {
     "name": "stdout",
     "output_type": "stream",
     "text": [
      "Processing player: Jaylen Brown\n",
      "Creating lags for points with lag=5\n",
      "Created lags for points, resulting in 15 rows\n",
      "Creating lags for assists with lag=5\n",
      "Created lags for assists, resulting in 15 rows\n",
      "Creating lags for steals with lag=5\n",
      "Created lags for steals, resulting in 15 rows\n",
      "Creating lags for blocks with lag=5\n",
      "Created lags for blocks, resulting in 15 rows\n",
      "Creating lags for totReb with lag=5\n",
      "Created lags for totReb, resulting in 15 rows\n",
      "Creating lags for turnovers with lag=5\n",
      "Created lags for turnovers, resulting in 15 rows\n",
      "Creating model\n",
      "Model created\n",
      "Fitting model with 1000 samples\n"
     ]
    },
    {
     "name": "stderr",
     "output_type": "stream",
     "text": [
      "Auto-assigning NUTS sampler...\n",
      "Initializing NUTS using jitter+adapt_diag...\n",
      "Multiprocess sampling (4 chains in 4 jobs)\n",
      "NUTS: [intercept, points_current_coeffs, assists_current_coeffs, steals_current_coeffs, blocks_current_coeffs, totReb_current_coeffs, turnovers_current_coeffs]\n"
     ]
    },
    {
     "data": {
      "text/html": [
       "<pre style=\"white-space:pre;overflow-x:auto;line-height:normal;font-family:Menlo,'DejaVu Sans Mono',consolas,'Courier New',monospace\">/Users/user/anaconda3/envs/pymc_env/lib/python3.12/site-packages/rich/live.py:231: UserWarning: install \n",
       "\"ipywidgets\" for Jupyter support\n",
       "  warnings.warn('install \"ipywidgets\" for Jupyter support')\n",
       "</pre>\n"
      ],
      "text/plain": [
       "/Users/user/anaconda3/envs/pymc_env/lib/python3.12/site-packages/rich/live.py:231: UserWarning: install \n",
       "\"ipywidgets\" for Jupyter support\n",
       "  warnings.warn('install \"ipywidgets\" for Jupyter support')\n"
      ]
     },
     "metadata": {},
     "output_type": "display_data"
    },
    {
     "data": {
      "text/html": [
       "<pre style=\"white-space:pre;overflow-x:auto;line-height:normal;font-family:Menlo,'DejaVu Sans Mono',consolas,'Courier New',monospace\"></pre>\n"
      ],
      "text/plain": []
     },
     "metadata": {},
     "output_type": "display_data"
    },
    {
     "data": {
      "text/html": [
       "<pre style=\"white-space:pre;overflow-x:auto;line-height:normal;font-family:Menlo,'DejaVu Sans Mono',consolas,'Courier New',monospace\">\n",
       "</pre>\n"
      ],
      "text/plain": [
       "\n"
      ]
     },
     "metadata": {},
     "output_type": "display_data"
    },
    {
     "name": "stderr",
     "output_type": "stream",
     "text": [
      "Sampling 4 chains for 1_000 tune and 1_000 draw iterations (4_000 + 4_000 draws total) took 236 seconds.\n",
      "There were 65 divergences after tuning. Increase `target_accept` or reparameterize.\n",
      "Chain 0 reached the maximum tree depth. Increase `max_treedepth`, increase `target_accept` or reparameterize.\n",
      "Chain 1 reached the maximum tree depth. Increase `max_treedepth`, increase `target_accept` or reparameterize.\n",
      "Chain 3 reached the maximum tree depth. Increase `max_treedepth`, increase `target_accept` or reparameterize.\n",
      "Sampling: [assists_current_obs, blocks_current_obs, points_current_obs, steals_current_obs, totReb_current_obs, turnovers_current_obs]\n"
     ]
    },
    {
     "data": {
      "text/html": [
       "<pre style=\"white-space:pre;overflow-x:auto;line-height:normal;font-family:Menlo,'DejaVu Sans Mono',consolas,'Courier New',monospace\">/Users/user/anaconda3/envs/pymc_env/lib/python3.12/site-packages/rich/live.py:231: UserWarning: install \n",
       "\"ipywidgets\" for Jupyter support\n",
       "  warnings.warn('install \"ipywidgets\" for Jupyter support')\n",
       "</pre>\n"
      ],
      "text/plain": [
       "/Users/user/anaconda3/envs/pymc_env/lib/python3.12/site-packages/rich/live.py:231: UserWarning: install \n",
       "\"ipywidgets\" for Jupyter support\n",
       "  warnings.warn('install \"ipywidgets\" for Jupyter support')\n"
      ]
     },
     "metadata": {},
     "output_type": "display_data"
    },
    {
     "name": "stdout",
     "output_type": "stream",
     "text": [
      "Getting posterior predictive with \n"
     ]
    },
    {
     "data": {
      "text/html": [
       "<pre style=\"white-space:pre;overflow-x:auto;line-height:normal;font-family:Menlo,'DejaVu Sans Mono',consolas,'Courier New',monospace\"></pre>\n"
      ],
      "text/plain": []
     },
     "metadata": {},
     "output_type": "display_data"
    },
    {
     "data": {
      "text/html": [
       "<pre style=\"white-space:pre;overflow-x:auto;line-height:normal;font-family:Menlo,'DejaVu Sans Mono',consolas,'Courier New',monospace\">\n",
       "</pre>\n"
      ],
      "text/plain": [
       "\n"
      ]
     },
     "metadata": {},
     "output_type": "display_data"
    },
    {
     "name": "stdout",
     "output_type": "stream",
     "text": [
      "Processing player: Jayson Tatum\n",
      "Creating lags for points with lag=5\n",
      "Created lags for points, resulting in 19 rows\n",
      "Creating lags for assists with lag=5\n",
      "Created lags for assists, resulting in 19 rows\n",
      "Creating lags for steals with lag=5\n",
      "Created lags for steals, resulting in 19 rows\n",
      "Creating lags for blocks with lag=5\n",
      "Created lags for blocks, resulting in 19 rows\n",
      "Creating lags for totReb with lag=5\n",
      "Created lags for totReb, resulting in 19 rows\n",
      "Creating lags for turnovers with lag=5\n",
      "Created lags for turnovers, resulting in 19 rows\n",
      "Creating model\n",
      "Model created\n",
      "Fitting model with 1000 samples\n"
     ]
    },
    {
     "name": "stderr",
     "output_type": "stream",
     "text": [
      "Auto-assigning NUTS sampler...\n",
      "Initializing NUTS using jitter+adapt_diag...\n",
      "Multiprocess sampling (4 chains in 4 jobs)\n",
      "NUTS: [intercept, points_current_coeffs, assists_current_coeffs, steals_current_coeffs, blocks_current_coeffs, totReb_current_coeffs, turnovers_current_coeffs]\n"
     ]
    },
    {
     "data": {
      "text/html": [
       "<pre style=\"white-space:pre;overflow-x:auto;line-height:normal;font-family:Menlo,'DejaVu Sans Mono',consolas,'Courier New',monospace\">/Users/user/anaconda3/envs/pymc_env/lib/python3.12/site-packages/rich/live.py:231: UserWarning: install \n",
       "\"ipywidgets\" for Jupyter support\n",
       "  warnings.warn('install \"ipywidgets\" for Jupyter support')\n",
       "</pre>\n"
      ],
      "text/plain": [
       "/Users/user/anaconda3/envs/pymc_env/lib/python3.12/site-packages/rich/live.py:231: UserWarning: install \n",
       "\"ipywidgets\" for Jupyter support\n",
       "  warnings.warn('install \"ipywidgets\" for Jupyter support')\n"
      ]
     },
     "metadata": {},
     "output_type": "display_data"
    },
    {
     "data": {
      "text/html": [
       "<pre style=\"white-space:pre;overflow-x:auto;line-height:normal;font-family:Menlo,'DejaVu Sans Mono',consolas,'Courier New',monospace\"></pre>\n"
      ],
      "text/plain": []
     },
     "metadata": {},
     "output_type": "display_data"
    },
    {
     "data": {
      "text/html": [
       "<pre style=\"white-space:pre;overflow-x:auto;line-height:normal;font-family:Menlo,'DejaVu Sans Mono',consolas,'Courier New',monospace\">\n",
       "</pre>\n"
      ],
      "text/plain": [
       "\n"
      ]
     },
     "metadata": {},
     "output_type": "display_data"
    },
    {
     "name": "stderr",
     "output_type": "stream",
     "text": [
      "Sampling 4 chains for 1_000 tune and 1_000 draw iterations (4_000 + 4_000 draws total) took 248 seconds.\n",
      "Chain 0 reached the maximum tree depth. Increase `max_treedepth`, increase `target_accept` or reparameterize.\n",
      "Chain 1 reached the maximum tree depth. Increase `max_treedepth`, increase `target_accept` or reparameterize.\n",
      "Chain 2 reached the maximum tree depth. Increase `max_treedepth`, increase `target_accept` or reparameterize.\n",
      "Chain 3 reached the maximum tree depth. Increase `max_treedepth`, increase `target_accept` or reparameterize.\n",
      "Sampling: [assists_current_obs, blocks_current_obs, points_current_obs, steals_current_obs, totReb_current_obs, turnovers_current_obs]\n"
     ]
    },
    {
     "data": {
      "text/html": [
       "<pre style=\"white-space:pre;overflow-x:auto;line-height:normal;font-family:Menlo,'DejaVu Sans Mono',consolas,'Courier New',monospace\">/Users/user/anaconda3/envs/pymc_env/lib/python3.12/site-packages/rich/live.py:231: UserWarning: install \n",
       "\"ipywidgets\" for Jupyter support\n",
       "  warnings.warn('install \"ipywidgets\" for Jupyter support')\n",
       "</pre>\n"
      ],
      "text/plain": [
       "/Users/user/anaconda3/envs/pymc_env/lib/python3.12/site-packages/rich/live.py:231: UserWarning: install \n",
       "\"ipywidgets\" for Jupyter support\n",
       "  warnings.warn('install \"ipywidgets\" for Jupyter support')\n"
      ]
     },
     "metadata": {},
     "output_type": "display_data"
    },
    {
     "name": "stdout",
     "output_type": "stream",
     "text": [
      "Getting posterior predictive with \n"
     ]
    },
    {
     "data": {
      "text/html": [
       "<pre style=\"white-space:pre;overflow-x:auto;line-height:normal;font-family:Menlo,'DejaVu Sans Mono',consolas,'Courier New',monospace\"></pre>\n"
      ],
      "text/plain": []
     },
     "metadata": {},
     "output_type": "display_data"
    },
    {
     "data": {
      "text/html": [
       "<pre style=\"white-space:pre;overflow-x:auto;line-height:normal;font-family:Menlo,'DejaVu Sans Mono',consolas,'Courier New',monospace\">\n",
       "</pre>\n"
      ],
      "text/plain": [
       "\n"
      ]
     },
     "metadata": {},
     "output_type": "display_data"
    },
    {
     "name": "stdout",
     "output_type": "stream",
     "text": [
      "Processing player: Jordan Walsh\n",
      "Creating lags for points with lag=5\n",
      "Created lags for points, resulting in 17 rows\n",
      "Creating lags for assists with lag=5\n",
      "Created lags for assists, resulting in 17 rows\n",
      "Creating lags for steals with lag=5\n",
      "Created lags for steals, resulting in 17 rows\n",
      "Creating lags for blocks with lag=5\n",
      "Created lags for blocks, resulting in 17 rows\n",
      "Creating lags for totReb with lag=5\n",
      "Created lags for totReb, resulting in 17 rows\n",
      "Creating lags for turnovers with lag=5\n",
      "Created lags for turnovers, resulting in 17 rows\n",
      "Creating model\n",
      "Model created\n",
      "Fitting model with 1000 samples\n"
     ]
    },
    {
     "name": "stderr",
     "output_type": "stream",
     "text": [
      "Auto-assigning NUTS sampler...\n",
      "Initializing NUTS using jitter+adapt_diag...\n",
      "Multiprocess sampling (4 chains in 4 jobs)\n",
      "NUTS: [intercept, points_current_coeffs, assists_current_coeffs, steals_current_coeffs, blocks_current_coeffs, totReb_current_coeffs, turnovers_current_coeffs]\n"
     ]
    },
    {
     "data": {
      "text/html": [
       "<pre style=\"white-space:pre;overflow-x:auto;line-height:normal;font-family:Menlo,'DejaVu Sans Mono',consolas,'Courier New',monospace\">/Users/user/anaconda3/envs/pymc_env/lib/python3.12/site-packages/rich/live.py:231: UserWarning: install \n",
       "\"ipywidgets\" for Jupyter support\n",
       "  warnings.warn('install \"ipywidgets\" for Jupyter support')\n",
       "</pre>\n"
      ],
      "text/plain": [
       "/Users/user/anaconda3/envs/pymc_env/lib/python3.12/site-packages/rich/live.py:231: UserWarning: install \n",
       "\"ipywidgets\" for Jupyter support\n",
       "  warnings.warn('install \"ipywidgets\" for Jupyter support')\n"
      ]
     },
     "metadata": {},
     "output_type": "display_data"
    },
    {
     "data": {
      "text/html": [
       "<pre style=\"white-space:pre;overflow-x:auto;line-height:normal;font-family:Menlo,'DejaVu Sans Mono',consolas,'Courier New',monospace\"></pre>\n"
      ],
      "text/plain": []
     },
     "metadata": {},
     "output_type": "display_data"
    },
    {
     "data": {
      "text/html": [
       "<pre style=\"white-space:pre;overflow-x:auto;line-height:normal;font-family:Menlo,'DejaVu Sans Mono',consolas,'Courier New',monospace\">\n",
       "</pre>\n"
      ],
      "text/plain": [
       "\n"
      ]
     },
     "metadata": {},
     "output_type": "display_data"
    },
    {
     "name": "stderr",
     "output_type": "stream",
     "text": [
      "Sampling 4 chains for 1_000 tune and 1_000 draw iterations (4_000 + 4_000 draws total) took 40 seconds.\n",
      "There were 3 divergences after tuning. Increase `target_accept` or reparameterize.\n",
      "Sampling: [assists_current_obs, blocks_current_obs, points_current_obs, steals_current_obs, totReb_current_obs, turnovers_current_obs]\n"
     ]
    },
    {
     "data": {
      "text/html": [
       "<pre style=\"white-space:pre;overflow-x:auto;line-height:normal;font-family:Menlo,'DejaVu Sans Mono',consolas,'Courier New',monospace\">/Users/user/anaconda3/envs/pymc_env/lib/python3.12/site-packages/rich/live.py:231: UserWarning: install \n",
       "\"ipywidgets\" for Jupyter support\n",
       "  warnings.warn('install \"ipywidgets\" for Jupyter support')\n",
       "</pre>\n"
      ],
      "text/plain": [
       "/Users/user/anaconda3/envs/pymc_env/lib/python3.12/site-packages/rich/live.py:231: UserWarning: install \n",
       "\"ipywidgets\" for Jupyter support\n",
       "  warnings.warn('install \"ipywidgets\" for Jupyter support')\n"
      ]
     },
     "metadata": {},
     "output_type": "display_data"
    },
    {
     "name": "stdout",
     "output_type": "stream",
     "text": [
      "Getting posterior predictive with \n"
     ]
    },
    {
     "data": {
      "text/html": [
       "<pre style=\"white-space:pre;overflow-x:auto;line-height:normal;font-family:Menlo,'DejaVu Sans Mono',consolas,'Courier New',monospace\"></pre>\n"
      ],
      "text/plain": []
     },
     "metadata": {},
     "output_type": "display_data"
    },
    {
     "data": {
      "text/html": [
       "<pre style=\"white-space:pre;overflow-x:auto;line-height:normal;font-family:Menlo,'DejaVu Sans Mono',consolas,'Courier New',monospace\">\n",
       "</pre>\n"
      ],
      "text/plain": [
       "\n"
      ]
     },
     "metadata": {},
     "output_type": "display_data"
    },
    {
     "name": "stdout",
     "output_type": "stream",
     "text": [
      "Processing player: Jrue Holiday\n",
      "Creating lags for points with lag=5\n",
      "Created lags for points, resulting in 17 rows\n",
      "Creating lags for assists with lag=5\n",
      "Created lags for assists, resulting in 17 rows\n",
      "Creating lags for steals with lag=5\n",
      "Created lags for steals, resulting in 17 rows\n",
      "Creating lags for blocks with lag=5\n",
      "Created lags for blocks, resulting in 17 rows\n",
      "Creating lags for totReb with lag=5\n",
      "Created lags for totReb, resulting in 17 rows\n",
      "Creating lags for turnovers with lag=5\n",
      "Created lags for turnovers, resulting in 17 rows\n",
      "Creating model\n",
      "Model created\n",
      "Fitting model with 1000 samples\n"
     ]
    },
    {
     "name": "stderr",
     "output_type": "stream",
     "text": [
      "Auto-assigning NUTS sampler...\n",
      "Initializing NUTS using jitter+adapt_diag...\n",
      "Multiprocess sampling (4 chains in 4 jobs)\n",
      "NUTS: [intercept, points_current_coeffs, assists_current_coeffs, steals_current_coeffs, blocks_current_coeffs, totReb_current_coeffs, turnovers_current_coeffs]\n"
     ]
    },
    {
     "data": {
      "text/html": [
       "<pre style=\"white-space:pre;overflow-x:auto;line-height:normal;font-family:Menlo,'DejaVu Sans Mono',consolas,'Courier New',monospace\">/Users/user/anaconda3/envs/pymc_env/lib/python3.12/site-packages/rich/live.py:231: UserWarning: install \n",
       "\"ipywidgets\" for Jupyter support\n",
       "  warnings.warn('install \"ipywidgets\" for Jupyter support')\n",
       "</pre>\n"
      ],
      "text/plain": [
       "/Users/user/anaconda3/envs/pymc_env/lib/python3.12/site-packages/rich/live.py:231: UserWarning: install \n",
       "\"ipywidgets\" for Jupyter support\n",
       "  warnings.warn('install \"ipywidgets\" for Jupyter support')\n"
      ]
     },
     "metadata": {},
     "output_type": "display_data"
    },
    {
     "data": {
      "text/html": [
       "<pre style=\"white-space:pre;overflow-x:auto;line-height:normal;font-family:Menlo,'DejaVu Sans Mono',consolas,'Courier New',monospace\"></pre>\n"
      ],
      "text/plain": []
     },
     "metadata": {},
     "output_type": "display_data"
    },
    {
     "data": {
      "text/html": [
       "<pre style=\"white-space:pre;overflow-x:auto;line-height:normal;font-family:Menlo,'DejaVu Sans Mono',consolas,'Courier New',monospace\">\n",
       "</pre>\n"
      ],
      "text/plain": [
       "\n"
      ]
     },
     "metadata": {},
     "output_type": "display_data"
    },
    {
     "name": "stderr",
     "output_type": "stream",
     "text": [
      "Sampling 4 chains for 1_000 tune and 1_000 draw iterations (4_000 + 4_000 draws total) took 135 seconds.\n",
      "There were 1160 divergences after tuning. Increase `target_accept` or reparameterize.\n",
      "Sampling: [assists_current_obs, blocks_current_obs, points_current_obs, steals_current_obs, totReb_current_obs, turnovers_current_obs]\n"
     ]
    },
    {
     "data": {
      "text/html": [
       "<pre style=\"white-space:pre;overflow-x:auto;line-height:normal;font-family:Menlo,'DejaVu Sans Mono',consolas,'Courier New',monospace\">/Users/user/anaconda3/envs/pymc_env/lib/python3.12/site-packages/rich/live.py:231: UserWarning: install \n",
       "\"ipywidgets\" for Jupyter support\n",
       "  warnings.warn('install \"ipywidgets\" for Jupyter support')\n",
       "</pre>\n"
      ],
      "text/plain": [
       "/Users/user/anaconda3/envs/pymc_env/lib/python3.12/site-packages/rich/live.py:231: UserWarning: install \n",
       "\"ipywidgets\" for Jupyter support\n",
       "  warnings.warn('install \"ipywidgets\" for Jupyter support')\n"
      ]
     },
     "metadata": {},
     "output_type": "display_data"
    },
    {
     "name": "stdout",
     "output_type": "stream",
     "text": [
      "Getting posterior predictive with \n"
     ]
    },
    {
     "data": {
      "text/html": [
       "<pre style=\"white-space:pre;overflow-x:auto;line-height:normal;font-family:Menlo,'DejaVu Sans Mono',consolas,'Courier New',monospace\"></pre>\n"
      ],
      "text/plain": []
     },
     "metadata": {},
     "output_type": "display_data"
    },
    {
     "data": {
      "text/html": [
       "<pre style=\"white-space:pre;overflow-x:auto;line-height:normal;font-family:Menlo,'DejaVu Sans Mono',consolas,'Courier New',monospace\">\n",
       "</pre>\n"
      ],
      "text/plain": [
       "\n"
      ]
     },
     "metadata": {},
     "output_type": "display_data"
    },
    {
     "name": "stdout",
     "output_type": "stream",
     "text": [
      "Processing player: Lonnie Walker IV\n",
      "Creating lags for points with lag=5\n",
      "Created lags for points, resulting in 4 rows\n",
      "Creating lags for assists with lag=5\n",
      "Created lags for assists, resulting in 4 rows\n",
      "Creating lags for steals with lag=5\n",
      "Created lags for steals, resulting in 4 rows\n",
      "Creating lags for blocks with lag=5\n",
      "Created lags for blocks, resulting in 4 rows\n",
      "Creating lags for totReb with lag=5\n",
      "Created lags for totReb, resulting in 4 rows\n",
      "Creating lags for turnovers with lag=5\n",
      "Created lags for turnovers, resulting in 4 rows\n",
      "Processing player: Luke Kornet\n",
      "Creating lags for points with lag=5\n",
      "Created lags for points, resulting in 17 rows\n",
      "Creating lags for assists with lag=5\n",
      "Created lags for assists, resulting in 17 rows\n",
      "Creating lags for steals with lag=5\n",
      "Created lags for steals, resulting in 17 rows\n",
      "Creating lags for blocks with lag=5\n",
      "Created lags for blocks, resulting in 17 rows\n",
      "Creating lags for totReb with lag=5\n",
      "Created lags for totReb, resulting in 17 rows\n",
      "Creating lags for turnovers with lag=5\n",
      "Created lags for turnovers, resulting in 17 rows\n",
      "Creating model\n",
      "Model created\n",
      "Fitting model with 1000 samples\n"
     ]
    },
    {
     "name": "stderr",
     "output_type": "stream",
     "text": [
      "Auto-assigning NUTS sampler...\n",
      "Initializing NUTS using jitter+adapt_diag...\n",
      "Multiprocess sampling (4 chains in 4 jobs)\n",
      "NUTS: [intercept, points_current_coeffs, assists_current_coeffs, steals_current_coeffs, blocks_current_coeffs, totReb_current_coeffs, turnovers_current_coeffs]\n"
     ]
    },
    {
     "data": {
      "text/html": [
       "<pre style=\"white-space:pre;overflow-x:auto;line-height:normal;font-family:Menlo,'DejaVu Sans Mono',consolas,'Courier New',monospace\">/Users/user/anaconda3/envs/pymc_env/lib/python3.12/site-packages/rich/live.py:231: UserWarning: install \n",
       "\"ipywidgets\" for Jupyter support\n",
       "  warnings.warn('install \"ipywidgets\" for Jupyter support')\n",
       "</pre>\n"
      ],
      "text/plain": [
       "/Users/user/anaconda3/envs/pymc_env/lib/python3.12/site-packages/rich/live.py:231: UserWarning: install \n",
       "\"ipywidgets\" for Jupyter support\n",
       "  warnings.warn('install \"ipywidgets\" for Jupyter support')\n"
      ]
     },
     "metadata": {},
     "output_type": "display_data"
    },
    {
     "data": {
      "text/html": [
       "<pre style=\"white-space:pre;overflow-x:auto;line-height:normal;font-family:Menlo,'DejaVu Sans Mono',consolas,'Courier New',monospace\"></pre>\n"
      ],
      "text/plain": []
     },
     "metadata": {},
     "output_type": "display_data"
    },
    {
     "data": {
      "text/html": [
       "<pre style=\"white-space:pre;overflow-x:auto;line-height:normal;font-family:Menlo,'DejaVu Sans Mono',consolas,'Courier New',monospace\">\n",
       "</pre>\n"
      ],
      "text/plain": [
       "\n"
      ]
     },
     "metadata": {},
     "output_type": "display_data"
    },
    {
     "name": "stderr",
     "output_type": "stream",
     "text": [
      "Sampling 4 chains for 1_000 tune and 1_000 draw iterations (4_000 + 4_000 draws total) took 73 seconds.\n",
      "There were 9 divergences after tuning. Increase `target_accept` or reparameterize.\n",
      "Sampling: [assists_current_obs, blocks_current_obs, points_current_obs, steals_current_obs, totReb_current_obs, turnovers_current_obs]\n"
     ]
    },
    {
     "data": {
      "text/html": [
       "<pre style=\"white-space:pre;overflow-x:auto;line-height:normal;font-family:Menlo,'DejaVu Sans Mono',consolas,'Courier New',monospace\">/Users/user/anaconda3/envs/pymc_env/lib/python3.12/site-packages/rich/live.py:231: UserWarning: install \n",
       "\"ipywidgets\" for Jupyter support\n",
       "  warnings.warn('install \"ipywidgets\" for Jupyter support')\n",
       "</pre>\n"
      ],
      "text/plain": [
       "/Users/user/anaconda3/envs/pymc_env/lib/python3.12/site-packages/rich/live.py:231: UserWarning: install \n",
       "\"ipywidgets\" for Jupyter support\n",
       "  warnings.warn('install \"ipywidgets\" for Jupyter support')\n"
      ]
     },
     "metadata": {},
     "output_type": "display_data"
    },
    {
     "name": "stdout",
     "output_type": "stream",
     "text": [
      "Getting posterior predictive with \n"
     ]
    },
    {
     "data": {
      "text/html": [
       "<pre style=\"white-space:pre;overflow-x:auto;line-height:normal;font-family:Menlo,'DejaVu Sans Mono',consolas,'Courier New',monospace\"></pre>\n"
      ],
      "text/plain": []
     },
     "metadata": {},
     "output_type": "display_data"
    },
    {
     "data": {
      "text/html": [
       "<pre style=\"white-space:pre;overflow-x:auto;line-height:normal;font-family:Menlo,'DejaVu Sans Mono',consolas,'Courier New',monospace\">\n",
       "</pre>\n"
      ],
      "text/plain": [
       "\n"
      ]
     },
     "metadata": {},
     "output_type": "display_data"
    },
    {
     "name": "stdout",
     "output_type": "stream",
     "text": [
      "Processing player: Neemias Queta\n",
      "Creating lags for points with lag=5\n",
      "Created lags for points, resulting in 19 rows\n",
      "Creating lags for assists with lag=5\n",
      "Created lags for assists, resulting in 19 rows\n",
      "Creating lags for steals with lag=5\n",
      "Created lags for steals, resulting in 19 rows\n",
      "Creating lags for blocks with lag=5\n",
      "Created lags for blocks, resulting in 19 rows\n",
      "Creating lags for totReb with lag=5\n",
      "Created lags for totReb, resulting in 19 rows\n",
      "Creating lags for turnovers with lag=5\n",
      "Created lags for turnovers, resulting in 19 rows\n",
      "Creating model\n",
      "Model created\n",
      "Fitting model with 1000 samples\n"
     ]
    },
    {
     "name": "stderr",
     "output_type": "stream",
     "text": [
      "Auto-assigning NUTS sampler...\n",
      "Initializing NUTS using jitter+adapt_diag...\n",
      "Multiprocess sampling (4 chains in 4 jobs)\n",
      "NUTS: [intercept, points_current_coeffs, assists_current_coeffs, steals_current_coeffs, blocks_current_coeffs, totReb_current_coeffs, turnovers_current_coeffs]\n"
     ]
    },
    {
     "data": {
      "text/html": [
       "<pre style=\"white-space:pre;overflow-x:auto;line-height:normal;font-family:Menlo,'DejaVu Sans Mono',consolas,'Courier New',monospace\">/Users/user/anaconda3/envs/pymc_env/lib/python3.12/site-packages/rich/live.py:231: UserWarning: install \n",
       "\"ipywidgets\" for Jupyter support\n",
       "  warnings.warn('install \"ipywidgets\" for Jupyter support')\n",
       "</pre>\n"
      ],
      "text/plain": [
       "/Users/user/anaconda3/envs/pymc_env/lib/python3.12/site-packages/rich/live.py:231: UserWarning: install \n",
       "\"ipywidgets\" for Jupyter support\n",
       "  warnings.warn('install \"ipywidgets\" for Jupyter support')\n"
      ]
     },
     "metadata": {},
     "output_type": "display_data"
    }
   ],
   "source": [
    "import pandas as pd\n",
    "import numpy as np\n",
    "import json\n",
    "import pymc as pm\n",
    "from typing import Dict\n",
    "import argparse\n",
    "\n",
    "# Import standardScaler and normalize\n",
    "from sklearn.preprocessing import StandardScaler\n",
    "from sklearn.preprocessing import normalize\n",
    "\n",
    "def load_and_process_team_data(filepath: str, sport: str) -> pd.DataFrame:\n",
    "    print(f\"Loading data from {filepath}\")\n",
    "    with open(filepath) as f:\n",
    "        data = json.load(f)\n",
    "\n",
    "    print(\"Processing team data\")\n",
    "    data = pd.DataFrame.from_dict(data[\"response\"])\n",
    "    data[\"player\"] = data[\"player\"].map(lambda x: x[\"firstname\"] + \" \" + x[\"lastname\"])\n",
    "    data[\"game\"] = data[\"game\"].map(lambda x: x[\"id\"])\n",
    "    if sport.lower() == \"nba\":\n",
    "        data = data[[\"game\", \"player\", \"points\", \"assists\", \"steals\", \"blocks\", \"totReb\", \"turnovers\"]]\n",
    "    print(f\"Processed team data with {len(data)} rows\")\n",
    "    return data\n",
    "\n",
    "def load_and_process_match_data(data: pd.DataFrame) -> pd.DataFrame:\n",
    "    print(\"Sorting and grouping match data\")\n",
    "    data.sort_values(by=[\"game\"], inplace=True)\n",
    "    data = data.groupby(\"game\").sum()\n",
    "    data.drop(columns=[\"player\"], inplace=True)\n",
    "    print(f\"Processed match data with {len(data)} rows\")\n",
    "    return data\n",
    "\n",
    "def load_and_process_player_data(data: pd.DataFrame) -> Dict[str, pd.DataFrame]:\n",
    "    print(\"Processing player data\")\n",
    "    players = data.groupby(\"player\", as_index=False)\n",
    "    player_data = {}\n",
    "    for player, player_df in players:\n",
    "        print(f\"Processing data for player: {player}\")\n",
    "        player_df = player_df.drop(columns=[\"player\"])\n",
    "        player_df = player_df.set_index(\"game\")\n",
    "        player_df = player_df.sort_index()\n",
    "        player_data[player] = player_df\n",
    "    print(f\"Processed data for {len(player_data)} players\")\n",
    "    return player_data\n",
    "\n",
    "def make_lags(data: pd.Series, lag: int, name: str) -> pd.DataFrame:\n",
    "    print(f\"Creating lags for {name} with lag={lag}\")\n",
    "    lagged_df = pd.concat([data.shift(i) for i in range(lag + 1)], axis=1)\n",
    "    lagged_df.columns = [f\"{name}_lag_{i}\" if i > 0 else f\"{name}_current\" for i in range(lag + 1)]\n",
    "    print(f\"Created lags for {name}, resulting in {len(lagged_df)} rows\")\n",
    "    return lagged_df.dropna().reset_index(drop=True)\n",
    "\n",
    "def make_model(data: pd.DataFrame) -> pm.Model:\n",
    "    print(\"Creating model\")\n",
    "   \n",
    "    model = pm.Model()\n",
    "    with model:\n",
    "        current_columns = [col for col in data.columns if \"current\" in col]\n",
    "        lagged_columns = [col for col in data.columns if \"lag\" in col]\n",
    "\n",
    "        intercept = pm.Normal(\"intercept\", 0.0, 1.0, shape=len(current_columns))\n",
    "        coefficients = {\n",
    "            current: pm.Normal(f\"{current}_coeffs\", 0.0, 1.0, shape=len(lagged_columns))\n",
    "            for current in current_columns\n",
    "        }\n",
    "\n",
    "        mu = {\n",
    "            current: pm.math.exp(intercept[i] + pm.math.dot(data[lagged_columns].values, coefficients[current]))\n",
    "            for i, current in enumerate(current_columns)\n",
    "        }\n",
    "\n",
    "        for i, current in enumerate(current_columns):\n",
    "            pm.Poisson(f\"{current}_obs\", mu=mu[current], observed=data[current].values)\n",
    "\n",
    "    print(\"Model created\")\n",
    "    return model\n",
    "\n",
    "def fit_model(num_samples: int, model: pm.Model):\n",
    "    print(f\"Fitting model with {num_samples} samples\")\n",
    "    with model:\n",
    "        return pm.sample(draws=num_samples, tune=1000, cores=4, chains=4)\n",
    "\n",
    "def get_posterior_predictive(model, trace):\n",
    "    print(f\"Getting posterior predictive with \")\n",
    "    with model:\n",
    "        return pm.sample_posterior_predictive(trace)\n",
    "\n",
    "\n",
    "def run_pipeline_players(filepath: str):\n",
    "    print(f\"Running pipeline for file: {filepath}\")\n",
    "    sport = \"nba\" if \"nba\" in filepath.lower() else \"nfl\"\n",
    "    team_data = load_and_process_team_data(filepath, sport)\n",
    "    player_data = load_and_process_player_data(team_data)\n",
    "\n",
    "    for player in player_data.keys():\n",
    "        print(f\"Processing player: {player}\")\n",
    "        player_df = player_data[player]\n",
    "\n",
    "        model_data = pd.DataFrame()\n",
    "\n",
    "        for col in player_df.columns:\n",
    "            lagged_df = make_lags(player_df[col], 5, col)\n",
    "            model_data = pd.concat([model_data, lagged_df], axis=1)\n",
    "        if model_data.empty:\n",
    "            continue\n",
    "        model = make_model(model_data)\n",
    "        trace = fit_model(1000, model)\n",
    "\n",
    "        posterior_predictive = get_posterior_predictive(model, trace)\n",
    "\n",
    "        points_pred = np.array(posterior_predictive.posterior_predictive[\"points_current_obs\"]).reshape(-1)\n",
    "        assists_pred = np.array(posterior_predictive.posterior_predictive[\"assists_current_obs\"]).reshape(-1)\n",
    "        steals_pred = np.array(posterior_predictive.posterior_predictive[\"steals_current_obs\"]).reshape(-1)\n",
    "        blocks_pred = np.array(posterior_predictive.posterior_predictive[\"blocks_current_obs\"]).reshape(-1)\n",
    "        turnovers_pred = np.array(posterior_predictive.posterior_predictive[\"turnovers_current_obs\"]).reshape(-1)\n",
    "        totReb_pred = np.array(posterior_predictive.posterior_predictive[\"totReb_current_obs\"]).reshape(-1)\n",
    "\n",
    "        posterior_predictive_df = pd.DataFrame({\n",
    "            \"points\": points_pred,\n",
    "            \"assists\": assists_pred,\n",
    "            \"steals\": steals_pred,\n",
    "            \"blocks\": blocks_pred,\n",
    "            \"turnovers\": turnovers_pred,\n",
    "            \"totReb\": totReb_pred\n",
    "        })\n",
    "\n",
    "        write_filepath = filepath[:-5]\n",
    "\n",
    "        posterior_predictive_df.to_csv(f\"{write_filepath}_{player}_posterior_predictive.csv\")\n",
    "\n",
    "\n",
    "run_pipeline_players(\"../data/nba/2024/celtics/team_stats.json\")\n"
   ]
  }
 ],
 "metadata": {
  "kernelspec": {
   "display_name": "venv",
   "language": "python",
   "name": "python3"
  },
  "language_info": {
   "codemirror_mode": {
    "name": "ipython",
    "version": 3
   },
   "file_extension": ".py",
   "mimetype": "text/x-python",
   "name": "python",
   "nbconvert_exporter": "python",
   "pygments_lexer": "ipython3",
   "version": "3.12.7"
  }
 },
 "nbformat": 4,
 "nbformat_minor": 2
}
